{
 "cells": [
  {
   "cell_type": "code",
   "execution_count": 3,
   "id": "98ecec26-5898-400a-8059-a72cea8000da",
   "metadata": {
    "tags": []
   },
   "outputs": [],
   "source": [
    "import numpy as np\n",
    "import pandas as pd\n",
    "import matplotlib.pyplot as plt\n",
    "import plotly.graph_objs as go\n",
    "from plotly.subplots import make_subplots\n",
    "from sklearn.metrics import mean_squared_error, mean_absolute_error\n",
    "from statsmodels.tsa.statespace.sarimax import SARIMAX\n",
    "from statsmodels.tsa.arima.model import ARIMA\n",
    "from sklearn.metrics import mean_absolute_error, mean_squared_error"
   ]
  },
  {
   "cell_type": "markdown",
   "id": "02e1b2be-91d9-4be8-a33f-5f676feaec89",
   "metadata": {
    "tags": []
   },
   "source": [
    "## Functions"
   ]
  },
  {
   "cell_type": "code",
   "execution_count": 4,
   "id": "c818b9ee-b479-4877-86dc-26509e472229",
   "metadata": {
    "tags": []
   },
   "outputs": [],
   "source": [
    "import plotly.graph_objs as go\n",
    "from plotly.subplots import make_subplots\n",
    "\n",
    "def plot_sarimax_forecast(forecasts):\n",
    "    \"\"\"Plot SARIMAX forecast with observed values, predictions, and confidence intervals.\n",
    "\n",
    "    Args:\n",
    "        forecasts (pd.DataFrame): DataFrame containing the SARIMAX forecast results.\n",
    "            Should include the following columns: \n",
    "            - 'test': Actual observed values (test data).\n",
    "            - 'predicted_mean': Predicted mean values from the SARIMAX model.\n",
    "            - 'lower_bound': Lower bound of the forecast confidence interval.\n",
    "            - 'upper_bound': Upper bound of the forecast confidence interval.\n",
    "\n",
    "    Returns:\n",
    "        None: Displays the SARIMAX forecast plot.\n",
    "    \"\"\"\n",
    "    fig = make_subplots()\n",
    "\n",
    "    fig.add_trace(go.Scatter(\n",
    "        x=forecasts.index, \n",
    "        y=forecasts.test, \n",
    "        name='Test',\n",
    "        line=dict(dash='solid')\n",
    "    ))\n",
    "\n",
    "    fig.add_trace(go.Scatter(\n",
    "        x=forecasts.index, \n",
    "        y=forecasts.predicted_mean, \n",
    "        mode='lines+markers',\n",
    "        name='Mean-SARIMAX Forecast',\n",
    "        marker=dict(symbol='circle', size=6),\n",
    "        line=dict(dash='dot')\n",
    "    ))\n",
    "\n",
    "    fig.add_trace(go.Scatter(\n",
    "        x=forecasts.index, \n",
    "        y=forecasts.lower_bound, \n",
    "        mode='lines+markers',\n",
    "        name='P25-SARIMAX Forecast',\n",
    "        marker=dict(symbol='triangle-up', size=8),\n",
    "        line=dict(dash='dot')\n",
    "    ))\n",
    "\n",
    "    fig.add_trace(go.Scatter(\n",
    "        x=forecasts.index, \n",
    "        y=forecasts.upper_bound, \n",
    "        mode='lines+markers',\n",
    "        name='P75-SARIMAX Forecast',\n",
    "        marker=dict(symbol='triangle-down', size=8),\n",
    "        line=dict(dash='dot')\n",
    "    ))\n",
    "\n",
    "    fig.update_layout(\n",
    "        title='SARIMAX Forecasting for Next 30 Days',\n",
    "        xaxis_title='Time',\n",
    "        yaxis_title='Value',\n",
    "        legend_title='Series',\n",
    "        width=800,\n",
    "        height=500\n",
    "    )\n",
    "\n",
    "    fig.show()\n",
    "\n",
    "def calculate_sarimax_metrics(test, forecasts):\n",
    "    \"\"\"Calculate MAE and RMSE metrics for SARIMAX predictions.\n",
    "\n",
    "    Args:\n",
    "        test (pd.Series): The actual observed values.\n",
    "        forecasts (pd.DataFrame): The SARIMAX model predictions, must include a 'predicted_mean' column.\n",
    "\n",
    "    Returns:\n",
    "        tuple: Contains the MAE and RMSE values for the SARIMAX model.\n",
    "    \"\"\"\n",
    "    sarimax_mae = mean_absolute_error(test, forecasts.predicted_mean)\n",
    "    sarimax_mse = mean_squared_error(test, forecasts.predicted_mean)\n",
    "    sarimax_rmse = np.sqrt(sarimax_mse)\n",
    "\n",
    "    print(f\"SARIMAX MAE: {sarimax_mae:.2f}, SARIMAX RMSE: {sarimax_rmse:.2f}\")\n",
    "\n",
    "    return sarimax_mae, sarimax_rmse"
   ]
  }
 ],
 "metadata": {
  "kernelspec": {
   "display_name": "conda_python3",
   "language": "python",
   "name": "conda_python3"
  },
  "language_info": {
   "codemirror_mode": {
    "name": "ipython",
    "version": 3
   },
   "file_extension": ".py",
   "mimetype": "text/x-python",
   "name": "python",
   "nbconvert_exporter": "python",
   "pygments_lexer": "ipython3",
   "version": "3.10.15"
  }
 },
 "nbformat": 4,
 "nbformat_minor": 5
}
