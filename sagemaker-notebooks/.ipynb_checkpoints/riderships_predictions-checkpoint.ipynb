{
 "cells": [
  {
   "cell_type": "code",
   "execution_count": 1,
   "id": "0f8bdad0-5a4d-470c-a4b2-eee3c9d91c59",
   "metadata": {
    "tags": []
   },
   "outputs": [],
   "source": [
    "import numpy as np\n",
    "import pandas as pd\n",
    "import pickle\n",
    "from statsmodels.tsa.statespace.sarimax import SARIMAX\n",
    "\n",
    "from utils_functions import *"
   ]
  },
  {
   "cell_type": "markdown",
   "id": "7936955d-3695-40cf-9224-c828143e2279",
   "metadata": {},
   "source": [
    "## Functions"
   ]
  },
  {
   "cell_type": "code",
   "execution_count": 2,
   "id": "68cda8bd-3ffc-4918-8316-c4427bce2698",
   "metadata": {
    "tags": []
   },
   "outputs": [],
   "source": [
    "def sarimax_forecast(riderships_data):\n",
    "    \"\"\"Generate a SARIMAX forecast for the next month based on ridership data.\n",
    "\n",
    "    This function fits a SARIMAX model to the provided ridership data and \n",
    "    forecasts values for the number of days in the next month.\n",
    "\n",
    "    Args:\n",
    "        riderships_data (pd.DataFrame): A DataFrame containing a column \n",
    "            'number_of_riderships' representing the ridership time series data.\n",
    "\n",
    "    Returns:\n",
    "        pd.DataFrame: A DataFrame containing the forecasted values for the next month.\n",
    "            Columns:\n",
    "            - 'predicted_mean': Forecasted mean values.\n",
    "            - 'lower_bound': Lower bound of the confidence interval.\n",
    "            - 'upper_bound': Upper bound of the confidence interval.\n",
    "    \"\"\"\n",
    "    all_data = riderships_data['number_of_riderships']\n",
    "\n",
    "    sarimax_model = SARIMAX(all_data, order=(1, 1, 1), seasonal_order=(2, 0, 0, 7))\n",
    "    sarimax_fitted = sarimax_model.fit()\n",
    "\n",
    "    forecast_steps = days_in_next_month()\n",
    "    forecast_obj = sarimax_fitted.get_forecast(steps=forecast_steps)\n",
    "    forecast_mean = forecast_obj.predicted_mean\n",
    "    conf_int = forecast_obj.conf_int(alpha=0.4)\n",
    "\n",
    "    forecasts = pd.DataFrame({\n",
    "        'predicted_mean': forecast_mean,\n",
    "        'lower_bound': conf_int.iloc[:, 0],\n",
    "        'upper_bound': conf_int.iloc[:, 1]\n",
    "    })\n",
    "\n",
    "    return forecasts"
   ]
  },
  {
   "cell_type": "markdown",
   "id": "c9d4ef6a-85f1-4037-983e-45c3c6eeb331",
   "metadata": {},
   "source": [
    "## Import Data"
   ]
  },
  {
   "cell_type": "code",
   "execution_count": 3,
   "id": "26ce0823-8ebf-4faa-b9e1-6c150c660c7a",
   "metadata": {
    "tags": []
   },
   "outputs": [],
   "source": [
    "file_key = 'data-transformed/run-1731935541465-part-r-00000.csv'\n",
    "mta_subway_df = read_s3_csv_to_dataframe(file_key)\n",
    "mta_subway_df = mta_subway_df.sort_values(by=[\"station_complex_id\", \"created_date\"], ascending=True)\n",
    "mta_subway_df.set_index('created_date', inplace=True)\n",
    "mta_subway_by_station = mta_subway_df[['station_complex_id', 'number_of_riderships']]\n",
    "mta_subway_by_station = mta_subway_by_station[mta_subway_by_station.station_complex_id.isin([611])]"
   ]
  },
  {
   "cell_type": "code",
   "execution_count": 4,
   "id": "43ee4496-6cea-4c90-a80c-b29f340ce1bd",
   "metadata": {
    "tags": []
   },
   "outputs": [
    {
     "data": {
      "text/html": [
       "<div>\n",
       "<style scoped>\n",
       "    .dataframe tbody tr th:only-of-type {\n",
       "        vertical-align: middle;\n",
       "    }\n",
       "\n",
       "    .dataframe tbody tr th {\n",
       "        vertical-align: top;\n",
       "    }\n",
       "\n",
       "    .dataframe thead th {\n",
       "        text-align: right;\n",
       "    }\n",
       "</style>\n",
       "<table border=\"1\" class=\"dataframe\">\n",
       "  <thead>\n",
       "    <tr style=\"text-align: right;\">\n",
       "      <th></th>\n",
       "      <th>station_complex_id</th>\n",
       "      <th>station_complex</th>\n",
       "      <th>latitude</th>\n",
       "      <th>longitude</th>\n",
       "      <th>georeference</th>\n",
       "      <th>number_of_riderships</th>\n",
       "      <th>year_period</th>\n",
       "    </tr>\n",
       "    <tr>\n",
       "      <th>created_date</th>\n",
       "      <th></th>\n",
       "      <th></th>\n",
       "      <th></th>\n",
       "      <th></th>\n",
       "      <th></th>\n",
       "      <th></th>\n",
       "      <th></th>\n",
       "    </tr>\n",
       "  </thead>\n",
       "  <tbody>\n",
       "    <tr>\n",
       "      <th>2023-01-01</th>\n",
       "      <td>8</td>\n",
       "      <td>5 Av/59 St (N,R,W)</td>\n",
       "      <td>40.764812</td>\n",
       "      <td>-73.97335</td>\n",
       "      <td>POINT (-73.97335 40.764812)</td>\n",
       "      <td>8909.0</td>\n",
       "      <td>2023</td>\n",
       "    </tr>\n",
       "    <tr>\n",
       "      <th>2023-01-02</th>\n",
       "      <td>8</td>\n",
       "      <td>5 Av/59 St (N,R,W)</td>\n",
       "      <td>40.764812</td>\n",
       "      <td>-73.97335</td>\n",
       "      <td>POINT (-73.97335 40.764812)</td>\n",
       "      <td>7475.0</td>\n",
       "      <td>2023</td>\n",
       "    </tr>\n",
       "    <tr>\n",
       "      <th>2023-01-03</th>\n",
       "      <td>8</td>\n",
       "      <td>5 Av/59 St (N,R,W)</td>\n",
       "      <td>40.764812</td>\n",
       "      <td>-73.97335</td>\n",
       "      <td>POINT (-73.97335 40.764812)</td>\n",
       "      <td>9291.0</td>\n",
       "      <td>2023</td>\n",
       "    </tr>\n",
       "    <tr>\n",
       "      <th>2023-01-04</th>\n",
       "      <td>8</td>\n",
       "      <td>5 Av/59 St (N,R,W)</td>\n",
       "      <td>40.764812</td>\n",
       "      <td>-73.97335</td>\n",
       "      <td>POINT (-73.97335 40.764812)</td>\n",
       "      <td>10697.0</td>\n",
       "      <td>2023</td>\n",
       "    </tr>\n",
       "    <tr>\n",
       "      <th>2023-01-05</th>\n",
       "      <td>8</td>\n",
       "      <td>5 Av/59 St (N,R,W)</td>\n",
       "      <td>40.764812</td>\n",
       "      <td>-73.97335</td>\n",
       "      <td>POINT (-73.97335 40.764812)</td>\n",
       "      <td>10391.0</td>\n",
       "      <td>2023</td>\n",
       "    </tr>\n",
       "  </tbody>\n",
       "</table>\n",
       "</div>"
      ],
      "text/plain": [
       "              station_complex_id     station_complex   latitude  longitude  \\\n",
       "created_date                                                                 \n",
       "2023-01-01                     8  5 Av/59 St (N,R,W)  40.764812  -73.97335   \n",
       "2023-01-02                     8  5 Av/59 St (N,R,W)  40.764812  -73.97335   \n",
       "2023-01-03                     8  5 Av/59 St (N,R,W)  40.764812  -73.97335   \n",
       "2023-01-04                     8  5 Av/59 St (N,R,W)  40.764812  -73.97335   \n",
       "2023-01-05                     8  5 Av/59 St (N,R,W)  40.764812  -73.97335   \n",
       "\n",
       "                             georeference  number_of_riderships  year_period  \n",
       "created_date                                                                  \n",
       "2023-01-01    POINT (-73.97335 40.764812)                8909.0         2023  \n",
       "2023-01-02    POINT (-73.97335 40.764812)                7475.0         2023  \n",
       "2023-01-03    POINT (-73.97335 40.764812)                9291.0         2023  \n",
       "2023-01-04    POINT (-73.97335 40.764812)               10697.0         2023  \n",
       "2023-01-05    POINT (-73.97335 40.764812)               10391.0         2023  "
      ]
     },
     "execution_count": 4,
     "metadata": {},
     "output_type": "execute_result"
    }
   ],
   "source": [
    "mta_subway_df.head()"
   ]
  },
  {
   "cell_type": "code",
   "execution_count": 5,
   "id": "2fc82d04-db3a-43a6-b8ab-8a94ca6a61e8",
   "metadata": {
    "tags": []
   },
   "outputs": [
    {
     "data": {
      "text/html": [
       "<div>\n",
       "<style scoped>\n",
       "    .dataframe tbody tr th:only-of-type {\n",
       "        vertical-align: middle;\n",
       "    }\n",
       "\n",
       "    .dataframe tbody tr th {\n",
       "        vertical-align: top;\n",
       "    }\n",
       "\n",
       "    .dataframe thead th {\n",
       "        text-align: right;\n",
       "    }\n",
       "</style>\n",
       "<table border=\"1\" class=\"dataframe\">\n",
       "  <thead>\n",
       "    <tr style=\"text-align: right;\">\n",
       "      <th></th>\n",
       "      <th>station_complex_id</th>\n",
       "      <th>number_of_riderships</th>\n",
       "    </tr>\n",
       "    <tr>\n",
       "      <th>created_date</th>\n",
       "      <th></th>\n",
       "      <th></th>\n",
       "    </tr>\n",
       "  </thead>\n",
       "  <tbody>\n",
       "    <tr>\n",
       "      <th>2023-01-01</th>\n",
       "      <td>610</td>\n",
       "      <td>36101.0</td>\n",
       "    </tr>\n",
       "    <tr>\n",
       "      <th>2023-01-02</th>\n",
       "      <td>610</td>\n",
       "      <td>40441.0</td>\n",
       "    </tr>\n",
       "    <tr>\n",
       "      <th>2023-01-03</th>\n",
       "      <td>610</td>\n",
       "      <td>87808.0</td>\n",
       "    </tr>\n",
       "    <tr>\n",
       "      <th>2023-01-04</th>\n",
       "      <td>610</td>\n",
       "      <td>93349.0</td>\n",
       "    </tr>\n",
       "    <tr>\n",
       "      <th>2023-01-05</th>\n",
       "      <td>610</td>\n",
       "      <td>90989.0</td>\n",
       "    </tr>\n",
       "  </tbody>\n",
       "</table>\n",
       "</div>"
      ],
      "text/plain": [
       "              station_complex_id  number_of_riderships\n",
       "created_date                                          \n",
       "2023-01-01                   610               36101.0\n",
       "2023-01-02                   610               40441.0\n",
       "2023-01-03                   610               87808.0\n",
       "2023-01-04                   610               93349.0\n",
       "2023-01-05                   610               90989.0"
      ]
     },
     "execution_count": 5,
     "metadata": {},
     "output_type": "execute_result"
    }
   ],
   "source": [
    "mta_subway_by_station.head()"
   ]
  },
  {
   "cell_type": "code",
   "execution_count": 6,
   "id": "8dbf631e-bbf2-4feb-8754-84cb9a7a7ed4",
   "metadata": {
    "tags": []
   },
   "outputs": [
    {
     "data": {
      "text/plain": [
       "array([610])"
      ]
     },
     "execution_count": 6,
     "metadata": {},
     "output_type": "execute_result"
    }
   ],
   "source": [
    "mta_subway_by_station.station_complex_id.unique()"
   ]
  },
  {
   "cell_type": "markdown",
   "id": "cc55ef1a-669b-4116-a8a9-60c7ea914427",
   "metadata": {},
   "source": [
    "## Make Predictions to all stations"
   ]
  },
  {
   "cell_type": "code",
   "execution_count": 7,
   "id": "7ba94166-e287-44ac-85cb-a9890a735d75",
   "metadata": {
    "tags": []
   },
   "outputs": [
    {
     "name": "stderr",
     "output_type": "stream",
     "text": [
      "/home/ec2-user/anaconda3/envs/python3/lib/python3.10/site-packages/statsmodels/tsa/base/tsa_model.py:473: ValueWarning: No frequency information was provided, so inferred frequency D will be used.\n",
      "  self._init_dates(dates, freq)\n",
      "/home/ec2-user/anaconda3/envs/python3/lib/python3.10/site-packages/statsmodels/tsa/base/tsa_model.py:473: ValueWarning: No frequency information was provided, so inferred frequency D will be used.\n",
      "  self._init_dates(dates, freq)\n",
      " This problem is unconstrained.\n"
     ]
    },
    {
     "name": "stdout",
     "output_type": "stream",
     "text": [
      "RUNNING THE L-BFGS-B CODE\n",
      "\n",
      "           * * *\n",
      "\n",
      "Machine precision = 2.220D-16\n",
      " N =            5     M =           10\n",
      "\n",
      "At X0         0 variables are exactly at the bounds\n",
      "\n",
      "At iterate    0    f=  1.12217D+01    |proj g|=  1.39618D-01\n",
      "\n",
      "At iterate    5    f=  1.11628D+01    |proj g|=  7.07077D-03\n",
      "\n",
      "At iterate   10    f=  1.11575D+01    |proj g|=  2.06515D-03\n",
      "\n",
      "At iterate   15    f=  1.11563D+01    |proj g|=  2.02076D-04\n",
      "\n",
      "At iterate   20    f=  1.11563D+01    |proj g|=  3.16447D-05\n",
      "\n",
      "At iterate   25    f=  1.11562D+01    |proj g|=  4.89619D-04\n",
      "\n",
      "At iterate   30    f=  1.09077D+01    |proj g|=  4.37725D-02\n",
      "\n",
      "At iterate   35    f=  1.08752D+01    |proj g|=  3.42860D-02\n",
      "\n",
      "At iterate   40    f=  1.08706D+01    |proj g|=  1.05500D-02\n",
      "  ys=-3.421E-01  -gs= 4.652E-03 BFGS update SKIPPED\n",
      "\n",
      "At iterate   45    f=  1.07212D+01    |proj g|=  6.72501D-02\n",
      "\n",
      "At iterate   50    f=  1.07161D+01    |proj g|=  1.36648D-03\n",
      "\n",
      "           * * *\n",
      "\n",
      "Tit   = total number of iterations\n",
      "Tnf   = total number of function evaluations\n",
      "Tnint = total number of segments explored during Cauchy searches\n",
      "Skip  = number of BFGS updates skipped\n",
      "Nact  = number of active bounds at final generalized Cauchy point\n",
      "Projg = norm of the final projected gradient\n",
      "F     = final function value\n",
      "\n",
      "           * * *\n",
      "\n",
      "   N    Tit     Tnf  Tnint  Skip  Nact     Projg        F\n",
      "    5     50     91      1     1     0   1.366D-03   1.072D+01\n",
      "  F =   10.716115940353964     \n",
      "\n",
      "STOP: TOTAL NO. of ITERATIONS REACHED LIMIT                 \n"
     ]
    },
    {
     "name": "stderr",
     "output_type": "stream",
     "text": [
      "/home/ec2-user/anaconda3/envs/python3/lib/python3.10/site-packages/statsmodels/base/model.py:607: ConvergenceWarning: Maximum Likelihood optimization failed to converge. Check mle_retvals\n",
      "  warnings.warn(\"Maximum Likelihood optimization failed to \"\n"
     ]
    }
   ],
   "source": [
    "forecasts = mta_subway_by_station.groupby('station_complex_id').apply(sarimax_forecast)"
   ]
  },
  {
   "cell_type": "code",
   "execution_count": 8,
   "id": "9b69cc48-901a-44f5-a6f6-22a38eac00fd",
   "metadata": {
    "tags": []
   },
   "outputs": [],
   "source": [
    "forecasts = forecasts.reset_index()\n",
    "forecasts.columns = ['station_complex_id', 'created_date', 'predicted_mean', 'lower_bound', 'upper_bound']\n",
    "forecasts.set_index('created_date', inplace=True)\n",
    "data_and_predictions = pd.concat([mta_subway_by_station, forecasts], axis=0)"
   ]
  },
  {
   "cell_type": "code",
   "execution_count": 9,
   "id": "bf450b47-6f2c-4baf-938f-8a47dec33893",
   "metadata": {
    "tags": []
   },
   "outputs": [],
   "source": [
    "mta_subway_df_unique = mta_subway_df.reset_index()[[\"station_complex_id\", \"station_complex\", \"latitude\", \"longitude\"]].drop_duplicates(subset=[\"station_complex_id\"])"
   ]
  },
  {
   "cell_type": "code",
   "execution_count": 10,
   "id": "415893a0-8b69-46dc-81f6-fb3c33f163ae",
   "metadata": {
    "tags": []
   },
   "outputs": [],
   "source": [
    "final_data_to_save = pd.merge(data_and_predictions.reset_index(), mta_subway_df_unique, on=\"station_complex_id\", how=\"left\")"
   ]
  },
  {
   "cell_type": "code",
   "execution_count": 11,
   "id": "88689d3d-c37a-4d85-aa08-50534ba0555c",
   "metadata": {
    "tags": []
   },
   "outputs": [
    {
     "data": {
      "text/html": [
       "<div>\n",
       "<style scoped>\n",
       "    .dataframe tbody tr th:only-of-type {\n",
       "        vertical-align: middle;\n",
       "    }\n",
       "\n",
       "    .dataframe tbody tr th {\n",
       "        vertical-align: top;\n",
       "    }\n",
       "\n",
       "    .dataframe thead th {\n",
       "        text-align: right;\n",
       "    }\n",
       "</style>\n",
       "<table border=\"1\" class=\"dataframe\">\n",
       "  <thead>\n",
       "    <tr style=\"text-align: right;\">\n",
       "      <th></th>\n",
       "      <th>created_date</th>\n",
       "      <th>station_complex_id</th>\n",
       "      <th>number_of_riderships</th>\n",
       "      <th>predicted_mean</th>\n",
       "      <th>lower_bound</th>\n",
       "      <th>upper_bound</th>\n",
       "      <th>station_complex</th>\n",
       "      <th>latitude</th>\n",
       "      <th>longitude</th>\n",
       "    </tr>\n",
       "  </thead>\n",
       "  <tbody>\n",
       "    <tr>\n",
       "      <th>665</th>\n",
       "      <td>2024-10-27</td>\n",
       "      <td>610</td>\n",
       "      <td>NaN</td>\n",
       "      <td>44786.563292</td>\n",
       "      <td>30625.658088</td>\n",
       "      <td>58947.468495</td>\n",
       "      <td>Grand Central-42 St (S,4,5,6,7)</td>\n",
       "      <td>40.751778</td>\n",
       "      <td>-73.976845</td>\n",
       "    </tr>\n",
       "    <tr>\n",
       "      <th>666</th>\n",
       "      <td>2024-10-28</td>\n",
       "      <td>610</td>\n",
       "      <td>NaN</td>\n",
       "      <td>65033.626645</td>\n",
       "      <td>50872.606416</td>\n",
       "      <td>79194.646875</td>\n",
       "      <td>Grand Central-42 St (S,4,5,6,7)</td>\n",
       "      <td>40.751778</td>\n",
       "      <td>-73.976845</td>\n",
       "    </tr>\n",
       "    <tr>\n",
       "      <th>667</th>\n",
       "      <td>2024-10-29</td>\n",
       "      <td>610</td>\n",
       "      <td>NaN</td>\n",
       "      <td>97517.407805</td>\n",
       "      <td>82429.587484</td>\n",
       "      <td>112605.228125</td>\n",
       "      <td>Grand Central-42 St (S,4,5,6,7)</td>\n",
       "      <td>40.751778</td>\n",
       "      <td>-73.976845</td>\n",
       "    </tr>\n",
       "    <tr>\n",
       "      <th>668</th>\n",
       "      <td>2024-10-30</td>\n",
       "      <td>610</td>\n",
       "      <td>NaN</td>\n",
       "      <td>105677.729576</td>\n",
       "      <td>90424.429542</td>\n",
       "      <td>120931.029610</td>\n",
       "      <td>Grand Central-42 St (S,4,5,6,7)</td>\n",
       "      <td>40.751778</td>\n",
       "      <td>-73.976845</td>\n",
       "    </tr>\n",
       "    <tr>\n",
       "      <th>669</th>\n",
       "      <td>2024-10-31</td>\n",
       "      <td>610</td>\n",
       "      <td>NaN</td>\n",
       "      <td>105719.562226</td>\n",
       "      <td>90434.714653</td>\n",
       "      <td>121004.409800</td>\n",
       "      <td>Grand Central-42 St (S,4,5,6,7)</td>\n",
       "      <td>40.751778</td>\n",
       "      <td>-73.976845</td>\n",
       "    </tr>\n",
       "  </tbody>\n",
       "</table>\n",
       "</div>"
      ],
      "text/plain": [
       "    created_date  station_complex_id  number_of_riderships  predicted_mean  \\\n",
       "665   2024-10-27                 610                   NaN    44786.563292   \n",
       "666   2024-10-28                 610                   NaN    65033.626645   \n",
       "667   2024-10-29                 610                   NaN    97517.407805   \n",
       "668   2024-10-30                 610                   NaN   105677.729576   \n",
       "669   2024-10-31                 610                   NaN   105719.562226   \n",
       "\n",
       "      lower_bound    upper_bound                  station_complex   latitude  \\\n",
       "665  30625.658088   58947.468495  Grand Central-42 St (S,4,5,6,7)  40.751778   \n",
       "666  50872.606416   79194.646875  Grand Central-42 St (S,4,5,6,7)  40.751778   \n",
       "667  82429.587484  112605.228125  Grand Central-42 St (S,4,5,6,7)  40.751778   \n",
       "668  90424.429542  120931.029610  Grand Central-42 St (S,4,5,6,7)  40.751778   \n",
       "669  90434.714653  121004.409800  Grand Central-42 St (S,4,5,6,7)  40.751778   \n",
       "\n",
       "     longitude  \n",
       "665 -73.976845  \n",
       "666 -73.976845  \n",
       "667 -73.976845  \n",
       "668 -73.976845  \n",
       "669 -73.976845  "
      ]
     },
     "execution_count": 11,
     "metadata": {},
     "output_type": "execute_result"
    }
   ],
   "source": [
    "final_data_to_save.tail()"
   ]
  },
  {
   "cell_type": "markdown",
   "id": "fe16992a-628a-4f5e-82fc-b95cde9785aa",
   "metadata": {},
   "source": [
    "## Save Predictions"
   ]
  },
  {
   "cell_type": "code",
   "execution_count": 12,
   "id": "29d2c0d5-cd12-4e08-bf1d-6a2e4427515f",
   "metadata": {
    "tags": []
   },
   "outputs": [
    {
     "data": {
      "text/plain": [
       "created_date            datetime64[ns]\n",
       "station_complex_id               int64\n",
       "number_of_riderships           float64\n",
       "predicted_mean                 float64\n",
       "lower_bound                    float64\n",
       "upper_bound                    float64\n",
       "station_complex                 object\n",
       "latitude                       float64\n",
       "longitude                      float64\n",
       "dtype: object"
      ]
     },
     "execution_count": 12,
     "metadata": {},
     "output_type": "execute_result"
    }
   ],
   "source": [
    "final_data_to_save.dtypes"
   ]
  },
  {
   "cell_type": "code",
   "execution_count": 13,
   "id": "26df12fb-206b-453e-9971-519927a194ea",
   "metadata": {
    "tags": []
   },
   "outputs": [
    {
     "name": "stdout",
     "output_type": "stream",
     "text": [
      "DataFrame successfully saved to s3://mta-subway/predictions/riderships_predictions.csv\n"
     ]
    }
   ],
   "source": [
    "save_dataframe_to_s3(final_data_to_save, bucket_name, 'predictions/riderships_predictions.csv')"
   ]
  }
 ],
 "metadata": {
  "kernelspec": {
   "display_name": "conda_python3",
   "language": "python",
   "name": "conda_python3"
  },
  "language_info": {
   "codemirror_mode": {
    "name": "ipython",
    "version": 3
   },
   "file_extension": ".py",
   "mimetype": "text/x-python",
   "name": "python",
   "nbconvert_exporter": "python",
   "pygments_lexer": "ipython3",
   "version": "3.10.15"
  }
 },
 "nbformat": 4,
 "nbformat_minor": 5
}
