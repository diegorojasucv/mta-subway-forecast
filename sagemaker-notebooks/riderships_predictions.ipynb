{
 "cells": [
  {
   "cell_type": "code",
   "execution_count": 54,
   "id": "0f8bdad0-5a4d-470c-a4b2-eee3c9d91c59",
   "metadata": {
    "tags": []
   },
   "outputs": [],
   "source": [
    "import numpy as np\n",
    "import pandas as pd\n",
    "import pickle\n",
    "from statsmodels.tsa.statespace.sarimax import SARIMAX\n",
    "\n",
    "from utils_functions import *"
   ]
  },
  {
   "cell_type": "markdown",
   "id": "7936955d-3695-40cf-9224-c828143e2279",
   "metadata": {},
   "source": [
    "## Functions"
   ]
  },
  {
   "cell_type": "code",
   "execution_count": 55,
   "id": "68cda8bd-3ffc-4918-8316-c4427bce2698",
   "metadata": {
    "tags": []
   },
   "outputs": [],
   "source": [
    "def sarimax_forecast(riderships_data):\n",
    "    \"\"\"Generate a SARIMAX forecast for the next month based on ridership data.\n",
    "\n",
    "    This function fits a SARIMAX model to the provided ridership data and \n",
    "    forecasts values for the number of days in the next month.\n",
    "\n",
    "    Args:\n",
    "        riderships_data (pd.DataFrame): A DataFrame containing a column \n",
    "            'number_of_riderships' representing the ridership time series data.\n",
    "\n",
    "    Returns:\n",
    "        pd.DataFrame: A DataFrame containing the forecasted values for the next month.\n",
    "            Columns:\n",
    "            - 'predicted_mean': Forecasted mean values.\n",
    "            - 'lower_bound': Lower bound of the confidence interval.\n",
    "            - 'upper_bound': Upper bound of the confidence interval.\n",
    "    \"\"\"\n",
    "    all_data = riderships_data['number_of_riderships']\n",
    "\n",
    "    sarimax_model = SARIMAX(all_data, order=(1, 1, 1), seasonal_order=(1, 0, 0, 7))\n",
    "    sarimax_fitted = sarimax_model.fit(disp=False)\n",
    "\n",
    "    forecast_steps = days_in_next_month()\n",
    "    forecast_obj = sarimax_fitted.get_forecast(steps=forecast_steps)\n",
    "    forecast_mean = forecast_obj.predicted_mean\n",
    "    conf_int = forecast_obj.conf_int(alpha=0.4)\n",
    "\n",
    "    forecasts = pd.DataFrame({\n",
    "        'predicted_mean': forecast_mean,\n",
    "        'lower_bound': conf_int.iloc[:, 0],\n",
    "        'upper_bound': conf_int.iloc[:, 1]\n",
    "    })\n",
    "\n",
    "    return forecasts"
   ]
  },
  {
   "cell_type": "code",
   "execution_count": 56,
   "id": "cb1b7601-74bb-45ee-b926-3e542459e4ba",
   "metadata": {
    "tags": []
   },
   "outputs": [],
   "source": [
    "TOP_20_STATIONS = [611, 610, 607, 602, 628, 164, 614, 318, 624, 613, 612, 225, 618, 609, 601, 397, 623, 167, 619, 313]"
   ]
  },
  {
   "cell_type": "markdown",
   "id": "c9d4ef6a-85f1-4037-983e-45c3c6eeb331",
   "metadata": {},
   "source": [
    "## Import Data"
   ]
  },
  {
   "cell_type": "code",
   "execution_count": 57,
   "id": "26ce0823-8ebf-4faa-b9e1-6c150c660c7a",
   "metadata": {
    "tags": []
   },
   "outputs": [],
   "source": [
    "file_key = 'data-transformed/run-1731935541465-part-r-00000.csv'\n",
    "mta_subway_df = read_s3_csv_to_dataframe(file_key)\n",
    "mta_subway_df = mta_subway_df.sort_values(by=[\"station_complex_id\", \"created_date\"], ascending=True)\n",
    "mta_subway_df.set_index('created_date', inplace=True)\n",
    "mta_subway_by_station = mta_subway_df[['station_complex_id', 'number_of_riderships']]\n",
    "mta_subway_by_station = mta_subway_by_station[mta_subway_by_station.station_complex_id.isin(TOP_20_STATIONS)]"
   ]
  },
  {
   "cell_type": "code",
   "execution_count": 58,
   "id": "43ee4496-6cea-4c90-a80c-b29f340ce1bd",
   "metadata": {
    "tags": []
   },
   "outputs": [
    {
     "data": {
      "text/html": [
       "<div>\n",
       "<style scoped>\n",
       "    .dataframe tbody tr th:only-of-type {\n",
       "        vertical-align: middle;\n",
       "    }\n",
       "\n",
       "    .dataframe tbody tr th {\n",
       "        vertical-align: top;\n",
       "    }\n",
       "\n",
       "    .dataframe thead th {\n",
       "        text-align: right;\n",
       "    }\n",
       "</style>\n",
       "<table border=\"1\" class=\"dataframe\">\n",
       "  <thead>\n",
       "    <tr style=\"text-align: right;\">\n",
       "      <th></th>\n",
       "      <th>station_complex_id</th>\n",
       "      <th>station_complex</th>\n",
       "      <th>latitude</th>\n",
       "      <th>longitude</th>\n",
       "      <th>georeference</th>\n",
       "      <th>number_of_riderships</th>\n",
       "      <th>year_period</th>\n",
       "    </tr>\n",
       "    <tr>\n",
       "      <th>created_date</th>\n",
       "      <th></th>\n",
       "      <th></th>\n",
       "      <th></th>\n",
       "      <th></th>\n",
       "      <th></th>\n",
       "      <th></th>\n",
       "      <th></th>\n",
       "    </tr>\n",
       "  </thead>\n",
       "  <tbody>\n",
       "    <tr>\n",
       "      <th>2023-01-01</th>\n",
       "      <td>8</td>\n",
       "      <td>5 Av/59 St (N,R,W)</td>\n",
       "      <td>40.764812</td>\n",
       "      <td>-73.97335</td>\n",
       "      <td>POINT (-73.97335 40.764812)</td>\n",
       "      <td>8909.0</td>\n",
       "      <td>2023</td>\n",
       "    </tr>\n",
       "    <tr>\n",
       "      <th>2023-01-02</th>\n",
       "      <td>8</td>\n",
       "      <td>5 Av/59 St (N,R,W)</td>\n",
       "      <td>40.764812</td>\n",
       "      <td>-73.97335</td>\n",
       "      <td>POINT (-73.97335 40.764812)</td>\n",
       "      <td>7475.0</td>\n",
       "      <td>2023</td>\n",
       "    </tr>\n",
       "    <tr>\n",
       "      <th>2023-01-03</th>\n",
       "      <td>8</td>\n",
       "      <td>5 Av/59 St (N,R,W)</td>\n",
       "      <td>40.764812</td>\n",
       "      <td>-73.97335</td>\n",
       "      <td>POINT (-73.97335 40.764812)</td>\n",
       "      <td>9291.0</td>\n",
       "      <td>2023</td>\n",
       "    </tr>\n",
       "    <tr>\n",
       "      <th>2023-01-04</th>\n",
       "      <td>8</td>\n",
       "      <td>5 Av/59 St (N,R,W)</td>\n",
       "      <td>40.764812</td>\n",
       "      <td>-73.97335</td>\n",
       "      <td>POINT (-73.97335 40.764812)</td>\n",
       "      <td>10697.0</td>\n",
       "      <td>2023</td>\n",
       "    </tr>\n",
       "    <tr>\n",
       "      <th>2023-01-05</th>\n",
       "      <td>8</td>\n",
       "      <td>5 Av/59 St (N,R,W)</td>\n",
       "      <td>40.764812</td>\n",
       "      <td>-73.97335</td>\n",
       "      <td>POINT (-73.97335 40.764812)</td>\n",
       "      <td>10391.0</td>\n",
       "      <td>2023</td>\n",
       "    </tr>\n",
       "  </tbody>\n",
       "</table>\n",
       "</div>"
      ],
      "text/plain": [
       "              station_complex_id     station_complex   latitude  longitude  \\\n",
       "created_date                                                                 \n",
       "2023-01-01                     8  5 Av/59 St (N,R,W)  40.764812  -73.97335   \n",
       "2023-01-02                     8  5 Av/59 St (N,R,W)  40.764812  -73.97335   \n",
       "2023-01-03                     8  5 Av/59 St (N,R,W)  40.764812  -73.97335   \n",
       "2023-01-04                     8  5 Av/59 St (N,R,W)  40.764812  -73.97335   \n",
       "2023-01-05                     8  5 Av/59 St (N,R,W)  40.764812  -73.97335   \n",
       "\n",
       "                             georeference  number_of_riderships  year_period  \n",
       "created_date                                                                  \n",
       "2023-01-01    POINT (-73.97335 40.764812)                8909.0         2023  \n",
       "2023-01-02    POINT (-73.97335 40.764812)                7475.0         2023  \n",
       "2023-01-03    POINT (-73.97335 40.764812)                9291.0         2023  \n",
       "2023-01-04    POINT (-73.97335 40.764812)               10697.0         2023  \n",
       "2023-01-05    POINT (-73.97335 40.764812)               10391.0         2023  "
      ]
     },
     "execution_count": 58,
     "metadata": {},
     "output_type": "execute_result"
    }
   ],
   "source": [
    "mta_subway_df.head()"
   ]
  },
  {
   "cell_type": "code",
   "execution_count": 59,
   "id": "2fc82d04-db3a-43a6-b8ab-8a94ca6a61e8",
   "metadata": {
    "tags": []
   },
   "outputs": [
    {
     "data": {
      "text/html": [
       "<div>\n",
       "<style scoped>\n",
       "    .dataframe tbody tr th:only-of-type {\n",
       "        vertical-align: middle;\n",
       "    }\n",
       "\n",
       "    .dataframe tbody tr th {\n",
       "        vertical-align: top;\n",
       "    }\n",
       "\n",
       "    .dataframe thead th {\n",
       "        text-align: right;\n",
       "    }\n",
       "</style>\n",
       "<table border=\"1\" class=\"dataframe\">\n",
       "  <thead>\n",
       "    <tr style=\"text-align: right;\">\n",
       "      <th></th>\n",
       "      <th>station_complex_id</th>\n",
       "      <th>number_of_riderships</th>\n",
       "    </tr>\n",
       "    <tr>\n",
       "      <th>created_date</th>\n",
       "      <th></th>\n",
       "      <th></th>\n",
       "    </tr>\n",
       "  </thead>\n",
       "  <tbody>\n",
       "    <tr>\n",
       "      <th>2023-01-01</th>\n",
       "      <td>164</td>\n",
       "      <td>28229.0</td>\n",
       "    </tr>\n",
       "    <tr>\n",
       "      <th>2023-01-02</th>\n",
       "      <td>164</td>\n",
       "      <td>30886.0</td>\n",
       "    </tr>\n",
       "    <tr>\n",
       "      <th>2023-01-03</th>\n",
       "      <td>164</td>\n",
       "      <td>50083.0</td>\n",
       "    </tr>\n",
       "    <tr>\n",
       "      <th>2023-01-04</th>\n",
       "      <td>164</td>\n",
       "      <td>51473.0</td>\n",
       "    </tr>\n",
       "    <tr>\n",
       "      <th>2023-01-05</th>\n",
       "      <td>164</td>\n",
       "      <td>51049.0</td>\n",
       "    </tr>\n",
       "  </tbody>\n",
       "</table>\n",
       "</div>"
      ],
      "text/plain": [
       "              station_complex_id  number_of_riderships\n",
       "created_date                                          \n",
       "2023-01-01                   164               28229.0\n",
       "2023-01-02                   164               30886.0\n",
       "2023-01-03                   164               50083.0\n",
       "2023-01-04                   164               51473.0\n",
       "2023-01-05                   164               51049.0"
      ]
     },
     "execution_count": 59,
     "metadata": {},
     "output_type": "execute_result"
    }
   ],
   "source": [
    "mta_subway_by_station.head()"
   ]
  },
  {
   "cell_type": "code",
   "execution_count": 60,
   "id": "8dbf631e-bbf2-4feb-8754-84cb9a7a7ed4",
   "metadata": {
    "tags": []
   },
   "outputs": [
    {
     "data": {
      "text/plain": [
       "array([164, 167, 225, 313, 318, 397, 601, 602, 607, 609, 610, 611, 612,\n",
       "       613, 614, 618, 619, 623, 624, 628])"
      ]
     },
     "execution_count": 60,
     "metadata": {},
     "output_type": "execute_result"
    }
   ],
   "source": [
    "mta_subway_by_station.station_complex_id.unique()"
   ]
  },
  {
   "cell_type": "markdown",
   "id": "cc55ef1a-669b-4116-a8a9-60c7ea914427",
   "metadata": {},
   "source": [
    "## Make Predictions to all stations"
   ]
  },
  {
   "cell_type": "code",
   "execution_count": 61,
   "id": "7ba94166-e287-44ac-85cb-a9890a735d75",
   "metadata": {
    "tags": []
   },
   "outputs": [
    {
     "name": "stderr",
     "output_type": "stream",
     "text": [
      "/home/ec2-user/anaconda3/envs/python3/lib/python3.10/site-packages/statsmodels/tsa/base/tsa_model.py:473: ValueWarning: No frequency information was provided, so inferred frequency D will be used.\n",
      "  self._init_dates(dates, freq)\n",
      "/home/ec2-user/anaconda3/envs/python3/lib/python3.10/site-packages/statsmodels/tsa/base/tsa_model.py:473: ValueWarning: No frequency information was provided, so inferred frequency D will be used.\n",
      "  self._init_dates(dates, freq)\n",
      "/home/ec2-user/anaconda3/envs/python3/lib/python3.10/site-packages/statsmodels/tsa/base/tsa_model.py:473: ValueWarning: No frequency information was provided, so inferred frequency D will be used.\n",
      "  self._init_dates(dates, freq)\n",
      "/home/ec2-user/anaconda3/envs/python3/lib/python3.10/site-packages/statsmodels/tsa/base/tsa_model.py:473: ValueWarning: No frequency information was provided, so inferred frequency D will be used.\n",
      "  self._init_dates(dates, freq)\n",
      "/home/ec2-user/anaconda3/envs/python3/lib/python3.10/site-packages/statsmodels/tsa/statespace/sarimax.py:966: UserWarning: Non-stationary starting autoregressive parameters found. Using zeros as starting parameters.\n",
      "  warn('Non-stationary starting autoregressive parameters'\n",
      "/home/ec2-user/anaconda3/envs/python3/lib/python3.10/site-packages/statsmodels/tsa/statespace/sarimax.py:978: UserWarning: Non-invertible starting MA parameters found. Using zeros as starting parameters.\n",
      "  warn('Non-invertible starting MA parameters found.'\n",
      "/home/ec2-user/anaconda3/envs/python3/lib/python3.10/site-packages/statsmodels/tsa/base/tsa_model.py:473: ValueWarning: No frequency information was provided, so inferred frequency D will be used.\n",
      "  self._init_dates(dates, freq)\n",
      "/home/ec2-user/anaconda3/envs/python3/lib/python3.10/site-packages/statsmodels/tsa/base/tsa_model.py:473: ValueWarning: No frequency information was provided, so inferred frequency D will be used.\n",
      "  self._init_dates(dates, freq)\n",
      "/home/ec2-user/anaconda3/envs/python3/lib/python3.10/site-packages/statsmodels/tsa/base/tsa_model.py:473: ValueWarning: No frequency information was provided, so inferred frequency D will be used.\n",
      "  self._init_dates(dates, freq)\n",
      "/home/ec2-user/anaconda3/envs/python3/lib/python3.10/site-packages/statsmodels/tsa/base/tsa_model.py:473: ValueWarning: No frequency information was provided, so inferred frequency D will be used.\n",
      "  self._init_dates(dates, freq)\n",
      "/home/ec2-user/anaconda3/envs/python3/lib/python3.10/site-packages/statsmodels/tsa/base/tsa_model.py:473: ValueWarning: No frequency information was provided, so inferred frequency D will be used.\n",
      "  self._init_dates(dates, freq)\n",
      "/home/ec2-user/anaconda3/envs/python3/lib/python3.10/site-packages/statsmodels/tsa/base/tsa_model.py:473: ValueWarning: No frequency information was provided, so inferred frequency D will be used.\n",
      "  self._init_dates(dates, freq)\n",
      "/home/ec2-user/anaconda3/envs/python3/lib/python3.10/site-packages/statsmodels/tsa/base/tsa_model.py:473: ValueWarning: No frequency information was provided, so inferred frequency D will be used.\n",
      "  self._init_dates(dates, freq)\n",
      "/home/ec2-user/anaconda3/envs/python3/lib/python3.10/site-packages/statsmodels/tsa/base/tsa_model.py:473: ValueWarning: No frequency information was provided, so inferred frequency D will be used.\n",
      "  self._init_dates(dates, freq)\n",
      "/home/ec2-user/anaconda3/envs/python3/lib/python3.10/site-packages/statsmodels/tsa/base/tsa_model.py:473: ValueWarning: No frequency information was provided, so inferred frequency D will be used.\n",
      "  self._init_dates(dates, freq)\n",
      "/home/ec2-user/anaconda3/envs/python3/lib/python3.10/site-packages/statsmodels/tsa/base/tsa_model.py:473: ValueWarning: No frequency information was provided, so inferred frequency D will be used.\n",
      "  self._init_dates(dates, freq)\n",
      "/home/ec2-user/anaconda3/envs/python3/lib/python3.10/site-packages/statsmodels/tsa/base/tsa_model.py:473: ValueWarning: No frequency information was provided, so inferred frequency D will be used.\n",
      "  self._init_dates(dates, freq)\n",
      "/home/ec2-user/anaconda3/envs/python3/lib/python3.10/site-packages/statsmodels/tsa/base/tsa_model.py:473: ValueWarning: No frequency information was provided, so inferred frequency D will be used.\n",
      "  self._init_dates(dates, freq)\n",
      "/home/ec2-user/anaconda3/envs/python3/lib/python3.10/site-packages/statsmodels/tsa/base/tsa_model.py:473: ValueWarning: No frequency information was provided, so inferred frequency D will be used.\n",
      "  self._init_dates(dates, freq)\n",
      "/home/ec2-user/anaconda3/envs/python3/lib/python3.10/site-packages/statsmodels/tsa/base/tsa_model.py:473: ValueWarning: No frequency information was provided, so inferred frequency D will be used.\n",
      "  self._init_dates(dates, freq)\n",
      "/home/ec2-user/anaconda3/envs/python3/lib/python3.10/site-packages/statsmodels/tsa/base/tsa_model.py:473: ValueWarning: No frequency information was provided, so inferred frequency D will be used.\n",
      "  self._init_dates(dates, freq)\n",
      "/home/ec2-user/anaconda3/envs/python3/lib/python3.10/site-packages/statsmodels/tsa/base/tsa_model.py:473: ValueWarning: No frequency information was provided, so inferred frequency D will be used.\n",
      "  self._init_dates(dates, freq)\n",
      "/home/ec2-user/anaconda3/envs/python3/lib/python3.10/site-packages/statsmodels/tsa/base/tsa_model.py:473: ValueWarning: No frequency information was provided, so inferred frequency D will be used.\n",
      "  self._init_dates(dates, freq)\n",
      "/home/ec2-user/anaconda3/envs/python3/lib/python3.10/site-packages/statsmodels/tsa/base/tsa_model.py:473: ValueWarning: No frequency information was provided, so inferred frequency D will be used.\n",
      "  self._init_dates(dates, freq)\n",
      "/home/ec2-user/anaconda3/envs/python3/lib/python3.10/site-packages/statsmodels/tsa/base/tsa_model.py:473: ValueWarning: No frequency information was provided, so inferred frequency D will be used.\n",
      "  self._init_dates(dates, freq)\n",
      "/home/ec2-user/anaconda3/envs/python3/lib/python3.10/site-packages/statsmodels/tsa/base/tsa_model.py:473: ValueWarning: No frequency information was provided, so inferred frequency D will be used.\n",
      "  self._init_dates(dates, freq)\n",
      "/home/ec2-user/anaconda3/envs/python3/lib/python3.10/site-packages/statsmodels/tsa/base/tsa_model.py:473: ValueWarning: No frequency information was provided, so inferred frequency D will be used.\n",
      "  self._init_dates(dates, freq)\n",
      "/home/ec2-user/anaconda3/envs/python3/lib/python3.10/site-packages/statsmodels/tsa/base/tsa_model.py:473: ValueWarning: No frequency information was provided, so inferred frequency D will be used.\n",
      "  self._init_dates(dates, freq)\n",
      "/home/ec2-user/anaconda3/envs/python3/lib/python3.10/site-packages/statsmodels/tsa/base/tsa_model.py:473: ValueWarning: No frequency information was provided, so inferred frequency D will be used.\n",
      "  self._init_dates(dates, freq)\n",
      "/home/ec2-user/anaconda3/envs/python3/lib/python3.10/site-packages/statsmodels/tsa/base/tsa_model.py:473: ValueWarning: No frequency information was provided, so inferred frequency D will be used.\n",
      "  self._init_dates(dates, freq)\n",
      "/home/ec2-user/anaconda3/envs/python3/lib/python3.10/site-packages/statsmodels/tsa/base/tsa_model.py:473: ValueWarning: No frequency information was provided, so inferred frequency D will be used.\n",
      "  self._init_dates(dates, freq)\n",
      "/home/ec2-user/anaconda3/envs/python3/lib/python3.10/site-packages/statsmodels/tsa/base/tsa_model.py:473: ValueWarning: No frequency information was provided, so inferred frequency D will be used.\n",
      "  self._init_dates(dates, freq)\n",
      "/home/ec2-user/anaconda3/envs/python3/lib/python3.10/site-packages/statsmodels/tsa/base/tsa_model.py:473: ValueWarning: No frequency information was provided, so inferred frequency D will be used.\n",
      "  self._init_dates(dates, freq)\n",
      "/home/ec2-user/anaconda3/envs/python3/lib/python3.10/site-packages/statsmodels/tsa/base/tsa_model.py:473: ValueWarning: No frequency information was provided, so inferred frequency D will be used.\n",
      "  self._init_dates(dates, freq)\n",
      "/home/ec2-user/anaconda3/envs/python3/lib/python3.10/site-packages/statsmodels/tsa/base/tsa_model.py:473: ValueWarning: No frequency information was provided, so inferred frequency D will be used.\n",
      "  self._init_dates(dates, freq)\n",
      "/home/ec2-user/anaconda3/envs/python3/lib/python3.10/site-packages/statsmodels/tsa/base/tsa_model.py:473: ValueWarning: No frequency information was provided, so inferred frequency D will be used.\n",
      "  self._init_dates(dates, freq)\n",
      "/home/ec2-user/anaconda3/envs/python3/lib/python3.10/site-packages/statsmodels/tsa/statespace/sarimax.py:966: UserWarning: Non-stationary starting autoregressive parameters found. Using zeros as starting parameters.\n",
      "  warn('Non-stationary starting autoregressive parameters'\n",
      "/home/ec2-user/anaconda3/envs/python3/lib/python3.10/site-packages/statsmodels/tsa/statespace/sarimax.py:978: UserWarning: Non-invertible starting MA parameters found. Using zeros as starting parameters.\n",
      "  warn('Non-invertible starting MA parameters found.'\n",
      "/home/ec2-user/anaconda3/envs/python3/lib/python3.10/site-packages/statsmodels/tsa/base/tsa_model.py:473: ValueWarning: No frequency information was provided, so inferred frequency D will be used.\n",
      "  self._init_dates(dates, freq)\n",
      "/home/ec2-user/anaconda3/envs/python3/lib/python3.10/site-packages/statsmodels/tsa/base/tsa_model.py:473: ValueWarning: No frequency information was provided, so inferred frequency D will be used.\n",
      "  self._init_dates(dates, freq)\n",
      "/home/ec2-user/anaconda3/envs/python3/lib/python3.10/site-packages/statsmodels/base/model.py:607: ConvergenceWarning: Maximum Likelihood optimization failed to converge. Check mle_retvals\n",
      "  warnings.warn(\"Maximum Likelihood optimization failed to \"\n",
      "/home/ec2-user/anaconda3/envs/python3/lib/python3.10/site-packages/statsmodels/tsa/base/tsa_model.py:473: ValueWarning: No frequency information was provided, so inferred frequency D will be used.\n",
      "  self._init_dates(dates, freq)\n",
      "/home/ec2-user/anaconda3/envs/python3/lib/python3.10/site-packages/statsmodels/tsa/base/tsa_model.py:473: ValueWarning: No frequency information was provided, so inferred frequency D will be used.\n",
      "  self._init_dates(dates, freq)\n",
      "/home/ec2-user/anaconda3/envs/python3/lib/python3.10/site-packages/statsmodels/tsa/base/tsa_model.py:473: ValueWarning: No frequency information was provided, so inferred frequency D will be used.\n",
      "  self._init_dates(dates, freq)\n",
      "/home/ec2-user/anaconda3/envs/python3/lib/python3.10/site-packages/statsmodels/tsa/base/tsa_model.py:473: ValueWarning: No frequency information was provided, so inferred frequency D will be used.\n",
      "  self._init_dates(dates, freq)\n"
     ]
    }
   ],
   "source": [
    "forecasts = mta_subway_by_station.groupby('station_complex_id').apply(sarimax_forecast)"
   ]
  },
  {
   "cell_type": "code",
   "execution_count": 62,
   "id": "9b69cc48-901a-44f5-a6f6-22a38eac00fd",
   "metadata": {
    "tags": []
   },
   "outputs": [],
   "source": [
    "forecasts = forecasts.reset_index()\n",
    "forecasts.columns = ['station_complex_id', 'created_date', 'predicted_mean', 'lower_bound', 'upper_bound']\n",
    "forecasts.set_index('created_date', inplace=True)\n",
    "data_and_predictions = pd.concat([mta_subway_by_station, forecasts], axis=0)\n",
    "mta_subway_df_unique = mta_subway_df.reset_index()[[\"station_complex_id\", \"station_complex\", \"latitude\", \"longitude\"]].drop_duplicates(subset=[\"station_complex_id\"])\n",
    "final_data_to_save = pd.merge(data_and_predictions.reset_index(), mta_subway_df_unique, on=\"station_complex_id\", how=\"left\")"
   ]
  },
  {
   "cell_type": "code",
   "execution_count": 63,
   "id": "88689d3d-c37a-4d85-aa08-50534ba0555c",
   "metadata": {
    "tags": []
   },
   "outputs": [
    {
     "data": {
      "text/html": [
       "<div>\n",
       "<style scoped>\n",
       "    .dataframe tbody tr th:only-of-type {\n",
       "        vertical-align: middle;\n",
       "    }\n",
       "\n",
       "    .dataframe tbody tr th {\n",
       "        vertical-align: top;\n",
       "    }\n",
       "\n",
       "    .dataframe thead th {\n",
       "        text-align: right;\n",
       "    }\n",
       "</style>\n",
       "<table border=\"1\" class=\"dataframe\">\n",
       "  <thead>\n",
       "    <tr style=\"text-align: right;\">\n",
       "      <th></th>\n",
       "      <th>created_date</th>\n",
       "      <th>station_complex_id</th>\n",
       "      <th>number_of_riderships</th>\n",
       "      <th>predicted_mean</th>\n",
       "      <th>lower_bound</th>\n",
       "      <th>upper_bound</th>\n",
       "      <th>station_complex</th>\n",
       "      <th>latitude</th>\n",
       "      <th>longitude</th>\n",
       "    </tr>\n",
       "  </thead>\n",
       "  <tbody>\n",
       "    <tr>\n",
       "      <th>13395</th>\n",
       "      <td>2024-10-27</td>\n",
       "      <td>628</td>\n",
       "      <td>NaN</td>\n",
       "      <td>35889.576187</td>\n",
       "      <td>25362.045319</td>\n",
       "      <td>46417.107055</td>\n",
       "      <td>Fulton St (A,C,J,Z,2,3,4,5)</td>\n",
       "      <td>40.710373</td>\n",
       "      <td>-74.00769</td>\n",
       "    </tr>\n",
       "    <tr>\n",
       "      <th>13396</th>\n",
       "      <td>2024-10-28</td>\n",
       "      <td>628</td>\n",
       "      <td>NaN</td>\n",
       "      <td>36664.459951</td>\n",
       "      <td>26136.902544</td>\n",
       "      <td>47192.017358</td>\n",
       "      <td>Fulton St (A,C,J,Z,2,3,4,5)</td>\n",
       "      <td>40.710373</td>\n",
       "      <td>-74.00769</td>\n",
       "    </tr>\n",
       "    <tr>\n",
       "      <th>13397</th>\n",
       "      <td>2024-10-29</td>\n",
       "      <td>628</td>\n",
       "      <td>NaN</td>\n",
       "      <td>50458.265668</td>\n",
       "      <td>39496.461373</td>\n",
       "      <td>61420.069963</td>\n",
       "      <td>Fulton St (A,C,J,Z,2,3,4,5)</td>\n",
       "      <td>40.710373</td>\n",
       "      <td>-74.00769</td>\n",
       "    </tr>\n",
       "    <tr>\n",
       "      <th>13398</th>\n",
       "      <td>2024-10-30</td>\n",
       "      <td>628</td>\n",
       "      <td>NaN</td>\n",
       "      <td>53547.070173</td>\n",
       "      <td>42531.213538</td>\n",
       "      <td>64562.926807</td>\n",
       "      <td>Fulton St (A,C,J,Z,2,3,4,5)</td>\n",
       "      <td>40.710373</td>\n",
       "      <td>-74.00769</td>\n",
       "    </tr>\n",
       "    <tr>\n",
       "      <th>13399</th>\n",
       "      <td>2024-10-31</td>\n",
       "      <td>628</td>\n",
       "      <td>NaN</td>\n",
       "      <td>53503.858977</td>\n",
       "      <td>42480.490082</td>\n",
       "      <td>64527.227871</td>\n",
       "      <td>Fulton St (A,C,J,Z,2,3,4,5)</td>\n",
       "      <td>40.710373</td>\n",
       "      <td>-74.00769</td>\n",
       "    </tr>\n",
       "  </tbody>\n",
       "</table>\n",
       "</div>"
      ],
      "text/plain": [
       "      created_date  station_complex_id  number_of_riderships  predicted_mean  \\\n",
       "13395   2024-10-27                 628                   NaN    35889.576187   \n",
       "13396   2024-10-28                 628                   NaN    36664.459951   \n",
       "13397   2024-10-29                 628                   NaN    50458.265668   \n",
       "13398   2024-10-30                 628                   NaN    53547.070173   \n",
       "13399   2024-10-31                 628                   NaN    53503.858977   \n",
       "\n",
       "        lower_bound   upper_bound              station_complex   latitude  \\\n",
       "13395  25362.045319  46417.107055  Fulton St (A,C,J,Z,2,3,4,5)  40.710373   \n",
       "13396  26136.902544  47192.017358  Fulton St (A,C,J,Z,2,3,4,5)  40.710373   \n",
       "13397  39496.461373  61420.069963  Fulton St (A,C,J,Z,2,3,4,5)  40.710373   \n",
       "13398  42531.213538  64562.926807  Fulton St (A,C,J,Z,2,3,4,5)  40.710373   \n",
       "13399  42480.490082  64527.227871  Fulton St (A,C,J,Z,2,3,4,5)  40.710373   \n",
       "\n",
       "       longitude  \n",
       "13395  -74.00769  \n",
       "13396  -74.00769  \n",
       "13397  -74.00769  \n",
       "13398  -74.00769  \n",
       "13399  -74.00769  "
      ]
     },
     "execution_count": 63,
     "metadata": {},
     "output_type": "execute_result"
    }
   ],
   "source": [
    "final_data_to_save.tail()"
   ]
  },
  {
   "cell_type": "markdown",
   "id": "fe16992a-628a-4f5e-82fc-b95cde9785aa",
   "metadata": {},
   "source": [
    "## Save Predictions"
   ]
  },
  {
   "cell_type": "code",
   "execution_count": 64,
   "id": "26df12fb-206b-453e-9971-519927a194ea",
   "metadata": {
    "tags": []
   },
   "outputs": [
    {
     "name": "stdout",
     "output_type": "stream",
     "text": [
      "DataFrame successfully saved to s3://mta-subway/predictions/riderships_predictions.csv\n"
     ]
    }
   ],
   "source": [
    "save_dataframe_to_s3(final_data_to_save, bucket_name, 'predictions/riderships_predictions.csv')"
   ]
  }
 ],
 "metadata": {
  "kernelspec": {
   "display_name": "conda_python3",
   "language": "python",
   "name": "conda_python3"
  },
  "language_info": {
   "codemirror_mode": {
    "name": "ipython",
    "version": 3
   },
   "file_extension": ".py",
   "mimetype": "text/x-python",
   "name": "python",
   "nbconvert_exporter": "python",
   "pygments_lexer": "ipython3",
   "version": "3.10.15"
  }
 },
 "nbformat": 4,
 "nbformat_minor": 5
}
