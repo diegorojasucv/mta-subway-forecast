{
 "cells": [
  {
   "cell_type": "code",
   "execution_count": 7,
   "id": "0f8bdad0-5a4d-470c-a4b2-eee3c9d91c59",
   "metadata": {
    "tags": []
   },
   "outputs": [],
   "source": [
    "import numpy as np\n",
    "import pandas as pd\n",
    "import pickle\n",
    "import calendar\n",
    "from datetime import datetime    "
   ]
  },
  {
   "cell_type": "code",
   "execution_count": 2,
   "id": "68cda8bd-3ffc-4918-8316-c4427bce2698",
   "metadata": {
    "tags": []
   },
   "outputs": [],
   "source": [
    "def days_in_next_month():\n",
    "    # Get the current year and month\n",
    "    current_date = datetime.now()\n",
    "    current_year = current_date.year\n",
    "    current_month = current_date.month\n",
    "\n",
    "    # Determine the next month\n",
    "    next_month = current_month + 1\n",
    "    next_year = current_year\n",
    "\n",
    "    # If the month is December, the next month will be January of the next year\n",
    "    if next_month > 12:\n",
    "        next_month = 1\n",
    "        next_year += 1\n",
    "\n",
    "    # Get the number of days in the next month\n",
    "    days_in_next_month = calendar.monthrange(next_year, next_month)[1]\n",
    "\n",
    "    return days_in_next_month"
   ]
  },
  {
   "cell_type": "code",
   "execution_count": 9,
   "id": "2598a194-b323-430f-8bf3-8e5f056f1890",
   "metadata": {
    "tags": []
   },
   "outputs": [],
   "source": [
    "STATION_ID = 611"
   ]
  },
  {
   "cell_type": "markdown",
   "id": "c9d4ef6a-85f1-4037-983e-45c3c6eeb331",
   "metadata": {},
   "source": [
    "## Import Data"
   ]
  },
  {
   "cell_type": "code",
   "execution_count": 19,
   "id": "26ce0823-8ebf-4faa-b9e1-6c150c660c7a",
   "metadata": {
    "tags": []
   },
   "outputs": [],
   "source": [
    "mta_subway_df = pd.read_csv('mta-subway-transformed.csv', parse_dates=[6])\n",
    "mta_subway_df = mta_subway_df.sort_values(by=[\"created_date\"], ascending=True)\n",
    "mta_subway_df.set_index('created_date', inplace=True)\n",
    "mta_subway_by_station = mta_subway_df[mta_subway_df['station_complex_id'] == STATION_ID][['station_complex_id', 'number_of_riderships']]"
   ]
  },
  {
   "cell_type": "markdown",
   "id": "8ea5fce0-e18a-48e0-8474-128092f034a0",
   "metadata": {},
   "source": [
    "## Upload Model"
   ]
  },
  {
   "cell_type": "code",
   "execution_count": 5,
   "id": "955d7c50-f9ac-4e79-b99c-5fb80497a3d9",
   "metadata": {
    "tags": []
   },
   "outputs": [],
   "source": [
    "with open('sarimax_model.pkl', 'rb') as f:\n",
    "    loaded_model = pickle.load(f)b"
   ]
  },
  {
   "cell_type": "markdown",
   "id": "cc55ef1a-669b-4116-a8a9-60c7ea914427",
   "metadata": {},
   "source": [
    "## Make Predictions"
   ]
  },
  {
   "cell_type": "code",
   "execution_count": 20,
   "id": "7ba94166-e287-44ac-85cb-a9890a735d75",
   "metadata": {
    "tags": []
   },
   "outputs": [],
   "source": [
    "forecast_steps = days_in_next_month()\n",
    "forecast_obj = loaded_model.get_forecast(steps=forecast_steps)\n",
    "forecast_mean = forecast_obj.predicted_mean\n",
    "conf_int = forecast_obj.conf_int(alpha=0.5)\n",
    "\n",
    "forecasts = pd.concat([forecast_mean, conf_int], axis=1)\n",
    "forecasts.columns = ['number_of_riderships', 'lower_bound', 'upper_bound']\n",
    "all_forecasts = pd.concat([mta_subway_by_station, forecasts], axis=0).reset_index()"
   ]
  },
  {
   "cell_type": "code",
   "execution_count": 21,
   "id": "9b69cc48-901a-44f5-a6f6-22a38eac00fd",
   "metadata": {
    "tags": []
   },
   "outputs": [
    {
     "data": {
      "text/html": [
       "<div>\n",
       "<style scoped>\n",
       "    .dataframe tbody tr th:only-of-type {\n",
       "        vertical-align: middle;\n",
       "    }\n",
       "\n",
       "    .dataframe tbody tr th {\n",
       "        vertical-align: top;\n",
       "    }\n",
       "\n",
       "    .dataframe thead th {\n",
       "        text-align: right;\n",
       "    }\n",
       "</style>\n",
       "<table border=\"1\" class=\"dataframe\">\n",
       "  <thead>\n",
       "    <tr style=\"text-align: right;\">\n",
       "      <th></th>\n",
       "      <th>index</th>\n",
       "      <th>station_complex_id</th>\n",
       "      <th>number_of_riderships</th>\n",
       "      <th>lower_bound</th>\n",
       "      <th>upper_bound</th>\n",
       "    </tr>\n",
       "  </thead>\n",
       "  <tbody>\n",
       "    <tr>\n",
       "      <th>665</th>\n",
       "      <td>2024-10-27</td>\n",
       "      <td>NaN</td>\n",
       "      <td>38807.218322</td>\n",
       "      <td>16901.799654</td>\n",
       "      <td>60712.636989</td>\n",
       "    </tr>\n",
       "    <tr>\n",
       "      <th>666</th>\n",
       "      <td>2024-10-28</td>\n",
       "      <td>NaN</td>\n",
       "      <td>73089.648210</td>\n",
       "      <td>50790.343887</td>\n",
       "      <td>95388.952533</td>\n",
       "    </tr>\n",
       "    <tr>\n",
       "      <th>667</th>\n",
       "      <td>2024-10-29</td>\n",
       "      <td>NaN</td>\n",
       "      <td>96593.770664</td>\n",
       "      <td>73808.144003</td>\n",
       "      <td>119379.397326</td>\n",
       "    </tr>\n",
       "    <tr>\n",
       "      <th>668</th>\n",
       "      <td>2024-10-30</td>\n",
       "      <td>NaN</td>\n",
       "      <td>100113.819141</td>\n",
       "      <td>76901.735685</td>\n",
       "      <td>123325.902598</td>\n",
       "    </tr>\n",
       "    <tr>\n",
       "      <th>669</th>\n",
       "      <td>2024-10-31</td>\n",
       "      <td>NaN</td>\n",
       "      <td>96688.783103</td>\n",
       "      <td>73067.085386</td>\n",
       "      <td>120310.480821</td>\n",
       "    </tr>\n",
       "  </tbody>\n",
       "</table>\n",
       "</div>"
      ],
      "text/plain": [
       "         index  station_complex_id  number_of_riderships   lower_bound  \\\n",
       "665 2024-10-27                 NaN          38807.218322  16901.799654   \n",
       "666 2024-10-28                 NaN          73089.648210  50790.343887   \n",
       "667 2024-10-29                 NaN          96593.770664  73808.144003   \n",
       "668 2024-10-30                 NaN         100113.819141  76901.735685   \n",
       "669 2024-10-31                 NaN          96688.783103  73067.085386   \n",
       "\n",
       "       upper_bound  \n",
       "665   60712.636989  \n",
       "666   95388.952533  \n",
       "667  119379.397326  \n",
       "668  123325.902598  \n",
       "669  120310.480821  "
      ]
     },
     "execution_count": 21,
     "metadata": {},
     "output_type": "execute_result"
    }
   ],
   "source": [
    "all_forecasts.tail()"
   ]
  },
  {
   "cell_type": "markdown",
   "id": "fe16992a-628a-4f5e-82fc-b95cde9785aa",
   "metadata": {},
   "source": [
    "## Transform Dataset"
   ]
  },
  {
   "cell_type": "code",
   "execution_count": 22,
   "id": "26df12fb-206b-453e-9971-519927a194ea",
   "metadata": {
    "tags": []
   },
   "outputs": [],
   "source": [
    "all_forecasts.to_csv('all_forecasts.csv', index=False)"
   ]
  }
 ],
 "metadata": {
  "kernelspec": {
   "display_name": "conda_python3",
   "language": "python",
   "name": "conda_python3"
  },
  "language_info": {
   "codemirror_mode": {
    "name": "ipython",
    "version": 3
   },
   "file_extension": ".py",
   "mimetype": "text/x-python",
   "name": "python",
   "nbconvert_exporter": "python",
   "pygments_lexer": "ipython3",
   "version": "3.10.15"
  }
 },
 "nbformat": 4,
 "nbformat_minor": 5
}
